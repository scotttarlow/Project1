{
 "cells": [
  {
   "cell_type": "markdown",
   "metadata": {},
   "source": [
    "# Project 1\n",
    "\n",
    "## Step 1: Open the `sat_scores.csv` file. Investigate the data, and answer the questions below.\n"
   ]
  },
  {
   "cell_type": "markdown",
   "metadata": {},
   "source": [
    "##### 1. What does the data describe?"
   ]
  },
  {
   "cell_type": "markdown",
   "metadata": {},
   "source": [
    "This data set comprises of participation rage , average verbal, and math scores on the SAT for each state in the united states. In addition, a total participation rate as well as national averages are provided. "
   ]
  },
  {
   "cell_type": "markdown",
   "metadata": {},
   "source": [
    "##### 2. Does the data look complete? Are there any obvious issues with the observations?"
   ]
  },
  {
   "cell_type": "markdown",
   "metadata": {},
   "source": [
    "For shallow analysis, this data is complete, as it provites both the average scores for each state, a normalized population metric (participation rate), as well as geogrpahic information (state). However, a quick web serach will show that students taking this exam also answer many other questions, such as their GPA, religion, ethnicity, family income, personal interests, citzenship and disabilities. Including just a few of these metrics could assist in developing insight into why there is varation in average sat scores between the states."
   ]
  },
  {
   "cell_type": "markdown",
   "metadata": {},
   "source": [
    "\n",
    "\n",
    "##### 3. Create a data dictionary for the dataset."
   ]
  },
  {
   "cell_type": "markdown",
   "metadata": {},
   "source": [
    "$$\\begin{array}{|c|c|c|} \\hline \\mathbf{Category} &\\mathbf{Type}&\\mathbf{Description} \\\\  \\hline\n",
    "\\text{States} & \\text{string} & \\text{Abrevations for states in the USA , 'all'  represents all the states} \\\\ \\hline\n",
    "\\text{Rate} & \\text{string} & \\text{Participation rate, a percentage} \\\\ \\hline\n",
    "\\text{Verbal} & \\text{string} & \\text{Average Verbal SAT Score, out of 800} \\\\ \\hline\n",
    "\\text{Math} & \\text{string} & \\text{Average Math SAT Scorem out of 800} \\\\ \\hline\n",
    "\\end{array}$$"
   ]
  },
  {
   "cell_type": "markdown",
   "metadata": {},
   "source": [
    "## Step 2: Load the data."
   ]
  },
  {
   "cell_type": "markdown",
   "metadata": {},
   "source": [
    "##### 4. Load the data into a list of lists"
   ]
  },
  {
   "cell_type": "code",
   "execution_count": 2,
   "metadata": {
    "collapsed": false
   },
   "outputs": [],
   "source": [
    "import csv\n",
    "filepath = '/Users/Scott/dsi/DSI_Workspace/project-01/assets/sat_scores.csv'\n",
    "SAT_Data = []\n",
    "with open(filepath, 'r') as f:\n",
    "    reader = csv.reader(f)\n",
    "    for row in reader:\n",
    "          SAT_Data.append(row)\n",
    "f.close()"
   ]
  },
  {
   "cell_type": "markdown",
   "metadata": {},
   "source": [
    "##### 5. Print the data"
   ]
  },
  {
   "cell_type": "code",
   "execution_count": 3,
   "metadata": {
    "collapsed": false
   },
   "outputs": [
    {
     "name": "stdout",
     "output_type": "stream",
     "text": [
      "[['State', 'Rate', 'Verbal', 'Math'], ['CT', '82', '509', '510'], ['NJ', '81', '499', '513'], ['MA', '79', '511', '515'], ['NY', '77', '495', '505'], ['NH', '72', '520', '516'], ['RI', '71', '501', '499'], ['PA', '71', '500', '499'], ['VT', '69', '511', '506'], ['ME', '69', '506', '500'], ['VA', '68', '510', '501'], ['DE', '67', '501', '499'], ['MD', '65', '508', '510'], ['NC', '65', '493', '499'], ['GA', '63', '491', '489'], ['IN', '60', '499', '501'], ['SC', '57', '486', '488'], ['DC', '56', '482', '474'], ['OR', '55', '526', '526'], ['FL', '54', '498', '499'], ['WA', '53', '527', '527'], ['TX', '53', '493', '499'], ['HI', '52', '485', '515'], ['AK', '51', '514', '510'], ['CA', '51', '498', '517'], ['AZ', '34', '523', '525'], ['NV', '33', '509', '515'], ['CO', '31', '539', '542'], ['OH', '26', '534', '439'], ['MT', '23', '539', '539'], ['WV', '18', '527', '512'], ['ID', '17', '543', '542'], ['TN', '13', '562', '553'], ['NM', '13', '551', '542'], ['IL', '12', '576', '589'], ['KY', '12', '550', '550'], ['WY', '11', '547', '545'], ['MI', '11', '561', '572'], ['MN', '9', '580', '589'], ['KS', '9', '577', '580'], ['AL', '9', '559', '554'], ['NE', '8', '562', '568'], ['OK', '8', '567', '561'], ['MO', '8', '577', '577'], ['LA', '7', '564', '562'], ['WI', '6', '584', '596'], ['AR', '6', '562', '550'], ['UT', '5', '575', '570'], ['IA', '5', '593', '603'], ['SD', '4', '577', '582'], ['ND', '4', '592', '599'], ['MS', '4', '566', '551'], ['All', '45', '506', '514']]\n"
     ]
    }
   ],
   "source": [
    "print SAT_Data"
   ]
  },
  {
   "cell_type": "markdown",
   "metadata": {
    "collapsed": true
   },
   "source": [
    "##### 6. Extract a list of the labels from the data, and remove them from the data."
   ]
  },
  {
   "cell_type": "code",
   "execution_count": 4,
   "metadata": {
    "collapsed": false
   },
   "outputs": [
    {
     "name": "stdout",
     "output_type": "stream",
     "text": [
      "['State', 'Rate', 'Verbal', 'Math']\n",
      "[['CT', '82', '509', '510'], ['NJ', '81', '499', '513'], ['MA', '79', '511', '515'], ['NY', '77', '495', '505'], ['NH', '72', '520', '516'], ['RI', '71', '501', '499'], ['PA', '71', '500', '499'], ['VT', '69', '511', '506'], ['ME', '69', '506', '500'], ['VA', '68', '510', '501'], ['DE', '67', '501', '499'], ['MD', '65', '508', '510'], ['NC', '65', '493', '499'], ['GA', '63', '491', '489'], ['IN', '60', '499', '501'], ['SC', '57', '486', '488'], ['DC', '56', '482', '474'], ['OR', '55', '526', '526'], ['FL', '54', '498', '499'], ['WA', '53', '527', '527'], ['TX', '53', '493', '499'], ['HI', '52', '485', '515'], ['AK', '51', '514', '510'], ['CA', '51', '498', '517'], ['AZ', '34', '523', '525'], ['NV', '33', '509', '515'], ['CO', '31', '539', '542'], ['OH', '26', '534', '439'], ['MT', '23', '539', '539'], ['WV', '18', '527', '512'], ['ID', '17', '543', '542'], ['TN', '13', '562', '553'], ['NM', '13', '551', '542'], ['IL', '12', '576', '589'], ['KY', '12', '550', '550'], ['WY', '11', '547', '545'], ['MI', '11', '561', '572'], ['MN', '9', '580', '589'], ['KS', '9', '577', '580'], ['AL', '9', '559', '554'], ['NE', '8', '562', '568'], ['OK', '8', '567', '561'], ['MO', '8', '577', '577'], ['LA', '7', '564', '562'], ['WI', '6', '584', '596'], ['AR', '6', '562', '550'], ['UT', '5', '575', '570'], ['IA', '5', '593', '603'], ['SD', '4', '577', '582'], ['ND', '4', '592', '599'], ['MS', '4', '566', '551'], ['All', '45', '506', '514']]\n"
     ]
    }
   ],
   "source": [
    "labels = SAT_Data.pop(0)\n",
    "print labels\n",
    "print SAT_Data"
   ]
  },
  {
   "cell_type": "markdown",
   "metadata": {},
   "source": [
    "##### 7. Create a list of State names extracted from the data. (Hint: use the list of labels to index on the State column)"
   ]
  },
  {
   "cell_type": "code",
   "execution_count": 5,
   "metadata": {
    "collapsed": false
   },
   "outputs": [
    {
     "name": "stdout",
     "output_type": "stream",
     "text": [
      "['CT', 'NJ', 'MA', 'NY', 'NH', 'RI', 'PA', 'VT', 'ME', 'VA', 'DE', 'MD', 'NC', 'GA', 'IN', 'SC', 'DC', 'OR', 'FL', 'WA', 'TX', 'HI', 'AK', 'CA', 'AZ', 'NV', 'CO', 'OH', 'MT', 'WV', 'ID', 'TN', 'NM', 'IL', 'KY', 'WY', 'MI', 'MN', 'KS', 'AL', 'NE', 'OK', 'MO', 'LA', 'WI', 'AR', 'UT', 'IA', 'SD', 'ND', 'MS', 'All']\n"
     ]
    }
   ],
   "source": [
    "State_names = [row[0] for row in SAT_Data]\n",
    "print State_names"
   ]
  },
  {
   "cell_type": "markdown",
   "metadata": {},
   "source": [
    "##### 8. Print the types of each column"
   ]
  },
  {
   "cell_type": "code",
   "execution_count": 6,
   "metadata": {
    "collapsed": false
   },
   "outputs": [
    {
     "name": "stdout",
     "output_type": "stream",
     "text": [
      "CT <type 'str'>\n",
      "82 <type 'str'>\n",
      "509 <type 'str'>\n",
      "510 <type 'str'>\n"
     ]
    }
   ],
   "source": [
    "for i in range(len(labels)):\n",
    "    print SAT_Data[0][i], type(SAT_Data[0][i])"
   ]
  },
  {
   "cell_type": "markdown",
   "metadata": {},
   "source": [
    "##### 9. Do any types need to be reassigned? If so, go ahead and do it."
   ]
  },
  {
   "cell_type": "code",
   "execution_count": 7,
   "metadata": {
    "collapsed": false
   },
   "outputs": [
    {
     "name": "stdout",
     "output_type": "stream",
     "text": [
      "TX <type 'str'>\n",
      "53 <type 'int'>\n",
      "493 <type 'int'>\n",
      "499 <type 'int'>\n"
     ]
    }
   ],
   "source": [
    "#Turning Rate, Verbal, Math to be ints\n",
    "for row in SAT_Data:\n",
    "    row[1] = int(row[1])\n",
    "    row[2] = int(row[2])\n",
    "    row[3] = int(row[3])\n",
    "for i in range(len(labels)):\n",
    "    print SAT_Data[20][i], type(SAT_Data[20][i])"
   ]
  },
  {
   "cell_type": "markdown",
   "metadata": {},
   "source": [
    "##### 10. Create a dictionary for each column mapping the State to its respective value for that column. "
   ]
  },
  {
   "cell_type": "code",
   "execution_count": 8,
   "metadata": {
    "collapsed": false
   },
   "outputs": [
    {
     "name": "stdout",
     "output_type": "stream",
     "text": [
      "51\n"
     ]
    }
   ],
   "source": [
    "State_Rate = {}\n",
    "State_Verbal = {}\n",
    "State_Math = {}\n",
    "for row in SAT_Data:\n",
    "    State_Rate[row[0]]  = row[1]\n",
    "    State_Verbal[row[0]]  = row[2]\n",
    "    State_Math[row[0]]  = row[3]\n",
    "print State_Rate['CA']"
   ]
  },
  {
   "cell_type": "markdown",
   "metadata": {},
   "source": [
    "##### 11. Create a dictionary with the values for each of the numeric columns"
   ]
  },
  {
   "cell_type": "code",
   "execution_count": 9,
   "metadata": {
    "collapsed": false
   },
   "outputs": [
    {
     "data": {
      "text/plain": [
       "52"
      ]
     },
     "execution_count": 9,
     "metadata": {},
     "output_type": "execute_result"
    }
   ],
   "source": [
    "# key = label, value = numeric column \n",
    "Num_Dict = {}\n",
    "Num_Dict['Rate'] = []\n",
    "Num_Dict['Verbal'] = []\n",
    "Num_Dict['Math'] = []\n",
    "for state in State_names:\n",
    "    Num_Dict['Rate'].append(State_Rate[state])\n",
    "    Num_Dict['Verbal'].append(State_Verbal[state])\n",
    "    Num_Dict['Math'].append(State_Math[state])\n",
    "Num_Dict\n",
    "len(Num_Dict['Rate'])\n",
    "    "
   ]
  },
  {
   "cell_type": "markdown",
   "metadata": {},
   "source": [
    "## Step 3: Describe the data"
   ]
  },
  {
   "cell_type": "markdown",
   "metadata": {},
   "source": [
    "##### 12. Print the min and max of each column"
   ]
  },
  {
   "cell_type": "code",
   "execution_count": 10,
   "metadata": {
    "collapsed": false
   },
   "outputs": [
    {
     "name": "stdout",
     "output_type": "stream",
     "text": [
      "Math Max: 603 Math Min: 439\n",
      "Verbal Max: 593 Verbal Min: 482\n",
      "Rate Max: 82 Rate Min: 4\n"
     ]
    }
   ],
   "source": [
    "rate_min = 1000000\n",
    "rate_max = 0\n",
    "verbal_min = 1000000\n",
    "verbal_max = 0\n",
    "math_min = 1000000\n",
    "math_max = 0\n",
    "\n",
    "#setting minimum values to default at 1 million because I know its way higher than any score in the rate.\n",
    "#if set to 0, default will alawys be less than actual values. I realize this isn't very robust!\n",
    "\n",
    "for key in Num_Dict:\n",
    "    for number in Num_Dict[key]:\n",
    "        if key == 'Rate':\n",
    "            if number > rate_max:\n",
    "                rate_max = number\n",
    "            if number < rate_min:\n",
    "                rate_min = number\n",
    "        if key == 'Verbal':\n",
    "            if number > verbal_max:\n",
    "                verbal_max = number\n",
    "            if number < verbal_min:\n",
    "                verbal_min = number\n",
    "        if key == 'Math':\n",
    "            if number > math_max:\n",
    "                math_max = number\n",
    "            if number < math_min:\n",
    "                math_min = number\n",
    "\n",
    "print \"Math Max:\", math_max , \"Math Min:\", math_min\n",
    "print \"Verbal Max:\", verbal_max , \"Verbal Min:\", verbal_min\n",
    "print \"Rate Max:\", rate_max , \"Rate Min:\", rate_min\n",
    "        "
   ]
  },
  {
   "cell_type": "markdown",
   "metadata": {},
   "source": [
    "##### 13. Write a function using only list comprehensions, no loops, to compute Standard Deviation. Print the Standard Deviation of each numeric column."
   ]
  },
  {
   "cell_type": "code",
   "execution_count": 11,
   "metadata": {
    "collapsed": false
   },
   "outputs": [
    {
     "name": "stdout",
     "output_type": "stream",
     "text": [
      "Math: 35.6651090003 Verbal: 32.9089653438 Rate: 27.0370116692\n"
     ]
    }
   ],
   "source": [
    "m_avg = sum(Num_Dict['Math'])/len(Num_Dict['Math'])\n",
    "v_avg = sum(Num_Dict['Verbal'])/len(Num_Dict['Verbal'])\n",
    "r_avg = sum(Num_Dict['Rate'])/len(Num_Dict['Rate'])\n",
    "N = len(Num_Dict['Math'])\n",
    "Math_Std = (sum([ (m - m_avg) ** 2 for m in Num_Dict['Math']]) / N ) ** (.5)\n",
    "Verbal_Std = (sum([ (v - v_avg) ** 2 for v in Num_Dict['Verbal']]) / N ) ** (.5)\n",
    "Rate_Std = (sum([ (r - r_avg) ** 2 for r in Num_Dict['Rate']]) / N ) ** (.5)\n",
    "print 'Math:', Math_Std,'Verbal:', Verbal_Std,'Rate:', Rate_Std\n",
    "\n",
    "\n",
    "\n"
   ]
  },
  {
   "cell_type": "markdown",
   "metadata": {},
   "source": [
    "## Step 4: Visualize the data"
   ]
  },
  {
   "cell_type": "markdown",
   "metadata": {
    "collapsed": true
   },
   "source": [
    "##### 14. Using MatPlotLib and PyPlot, plot the distribution of the Rate using histograms."
   ]
  },
  {
   "cell_type": "code",
   "execution_count": 12,
   "metadata": {
    "collapsed": false
   },
   "outputs": [
    {
     "data": {
      "image/png": "[encoded data removed]",
      "text/plain": [
       "<matplotlib.figure.Figure at 0x10cbef0d0>"
      ]
     },
     "metadata": {},
     "output_type": "display_data"
    }
   ],
   "source": [
    "%matplotlib inline\n",
    "import matplotlib.pyplot as plt\n",
    "plt.hist(Num_Dict['Rate'],10)\n",
    "plt.title('Participation Rate')\n",
    "plt.xlabel('Participation Rate')\n",
    "plt.ylabel('Number of States')\n",
    "plt.show()"
   ]
  },
  {
   "cell_type": "markdown",
   "metadata": {},
   "source": [
    "##### 15. Plot the Math distribution"
   ]
  },
  {
   "cell_type": "code",
   "execution_count": 17,
   "metadata": {
    "collapsed": false
   },
   "outputs": [
    {
     "data": {
      "image/png": "[encoded data removed]",
      "text/plain": [
       "<matplotlib.figure.Figure at 0x1100f8c50>"
      ]
     },
     "metadata": {},
     "output_type": "display_data"
    }
   ],
   "source": [
    "%matplotlib inline\n",
    "\n",
    "import matplotlib.pyplot as plt\n",
    "\n",
    "plt.hist(Num_Dict['Math'],10)\n",
    "plt.title('Participation Rate')\n",
    "plt.title('Math Scores')\n",
    "plt.xlabel('Math Score')\n",
    "plt.ylabel('Number of States')\n",
    "plt.show()"
   ]
  },
  {
   "cell_type": "markdown",
   "metadata": {},
   "source": [
    "##### 16. Plot the Verbal distribution"
   ]
  },
  {
   "cell_type": "code",
   "execution_count": 20,
   "metadata": {
    "collapsed": false
   },
   "outputs": [
    {
     "data": {
      "image/png": "[encoded data removed]",
      "text/plain": [
       "<matplotlib.figure.Figure at 0x11081c890>"
      ]
     },
     "metadata": {},
     "output_type": "display_data"
    }
   ],
   "source": [
    "%matplotlib inline\n",
    "import matplotlib.pyplot as plt\n",
    "plt.hist(Num_Dict['Verbal'],10)\n",
    "plt.title('Verbal Scores')\n",
    "plt.xlabel('Verbal Score')\n",
    "plt.ylabel('Number of States')\n",
    "plt.show()"
   ]
  },
  {
   "cell_type": "markdown",
   "metadata": {},
   "source": [
    "##### 17. What is the typical assumption for data distribution?"
   ]
  },
  {
   "cell_type": "markdown",
   "metadata": {
    "collapsed": false
   },
   "source": [
    "The typical assupmtion for a data distrobution is that it is normally distrubuted (gauassian), meaning the mean, median and mode are equal. "
   ]
  },
  {
   "cell_type": "markdown",
   "metadata": {},
   "source": [
    "##### 18. Does that distribution hold true for our data?"
   ]
  },
  {
   "cell_type": "code",
   "execution_count": 15,
   "metadata": {
    "collapsed": false
   },
   "outputs": [
    {
     "name": "stdout",
     "output_type": "stream",
     "text": [
      "The verb mean is 532.019230769 and the verb median is 526.5\n",
      "The math mean is 531.5 and the math median is 521.0\n",
      "The rate mean is 37.1538461538 and the rate median is 33.5\n"
     ]
    }
   ],
   "source": [
    "import numpy as np\n",
    "verb_mean = np.mean(Num_Dict['Verbal'])\n",
    "verb_median = np.median(Num_Dict['Verbal'])\n",
    "math_mean = np.mean(Num_Dict['Math'])\n",
    "math_median = np.median(Num_Dict['Math'])\n",
    "rate_mean = np.mean(Num_Dict['Rate'])\n",
    "rate_median = np.median(Num_Dict['Rate'])\n",
    "\n",
    "print \"The verb mean is\", verb_mean, \"and the verb median is\", verb_median\n",
    "print \"The math mean is\", math_mean, \"and the math median is\", math_median\n",
    "print \"The rate mean is\", rate_mean, \"and the rate median is\", rate_median\n"
   ]
  },
  {
   "cell_type": "markdown",
   "metadata": {},
   "source": [
    "None of these are normal distrobution, because none of the medians are equal to any of their respective means. "
   ]
  },
  {
   "cell_type": "markdown",
   "metadata": {},
   "source": [
    "##### 19. Plot some scatterplots. **BONUS**: Use a PyPlot `figure` to present multiple plots at once."
   ]
  },
  {
   "cell_type": "code",
   "execution_count": 16,
   "metadata": {
    "collapsed": false
   },
   "outputs": [
    {
     "data": {
      "image/png": "[encoded data removed]",
      "text/plain": [
       "<matplotlib.figure.Figure at 0x10f661050>"
      ]
     },
     "metadata": {},
     "output_type": "display_data"
    }
   ],
   "source": [
    "%matplotlib inline\n",
    "import matplotlib.pyplot as plt\n",
    "\n",
    "plt.subplot(1,2,1)\n",
    "plt.scatter(Num_Dict['Math'],Num_Dict['Verbal'])\n",
    "plt.xlabel(\"Math Score\")\n",
    "plt.ylabel(\"Verbal Score\")\n",
    "\n",
    "plt.subplot(2,2,2)\n",
    "plt.scatter(Num_Dict['Rate'],Num_Dict['Verbal'])\n",
    "plt.xlabel(\"Participation Rate\")\n",
    "plt.ylabel(\"Verbal Score\")\n",
    "\n",
    "plt.subplot(2,2,4)\n",
    "plt.scatter(Num_Dict['Rate'],Num_Dict['Math'])\n",
    "plt.xlabel(\"Participation Rate\")\n",
    "plt.ylabel(\"Math Score\")\n",
    "\n",
    "\n",
    "plt.tight_layout()\n",
    "plt.subplots_adjust(hspace=.5)\n",
    "plt.show()"
   ]
  },
  {
   "cell_type": "markdown",
   "metadata": {},
   "source": [
    "##### 20. Are there any interesting relationships to note?"
   ]
  },
  {
   "cell_type": "markdown",
   "metadata": {
    "collapsed": false
   },
   "source": [
    "1.  There is a clear negative relationship between both Math and Verbal scores with respect to Participation Rate. This could be that in states with low participation rates, only the creme of the crop students take SAT, thus resulting in higher scores.  By the same token, higher participation rates suggest the good,average, and terrible students take the score, thus resulting in a lower score. However, while there is a negative relationship, the functional correlation is clearly not linear. Other facts that would affect his could be differences in curriculm, poverty levels, class sizes, and overall educational quality as it pertains to the SAT. \n",
    "\n",
    "2. There is a positive relationship between verbal score and math score. This makes intuative sense, people who are smart are generally good at both math and language!\n",
    "\n",
    "3. Ohio has an anomolously low math score. This could be a one year error, or, it could be do to enviornmental issues such as poor math curriculum in ohio. However, without many years of data, it's impossible to say."
   ]
  },
  {
   "cell_type": "markdown",
   "metadata": {},
   "source": [
    "##### 21. Create box plots for each variable. "
   ]
  },
  {
   "cell_type": "code",
   "execution_count": null,
   "metadata": {
    "collapsed": false
   },
   "outputs": [],
   "source": []
  },
  {
   "cell_type": "markdown",
   "metadata": {},
   "source": [
    "##### BONUS: Using Tableau, create a heat map for each variable using a map of the US. "
   ]
  },
  {
   "cell_type": "code",
   "execution_count": 17,
   "metadata": {
    "collapsed": true
   },
   "outputs": [],
   "source": [
    "from IPython.display import Image"
   ]
  },
  {
   "cell_type": "code",
   "execution_count": null,
   "metadata": {
    "collapsed": true
   },
   "outputs": [],
   "source": []
  }
 ],
 "metadata": {
  "anaconda-cloud": {},
  "kernelspec": {
   "display_name": "Python [default]",
   "language": "python",
   "name": "python2"
  },
  "language_info": {
   "codemirror_mode": {
    "name": "ipython",
    "version": 2
   },
   "file_extension": ".py",
   "mimetype": "text/x-python",
   "name": "python",
   "nbconvert_exporter": "python",
   "pygments_lexer": "ipython2",
   "version": "2.7.12"
  }
 },
 "nbformat": 4,
 "nbformat_minor": 0
}
